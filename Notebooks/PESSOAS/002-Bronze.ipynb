{
 "cells": [
  {
   "cell_type": "code",
   "execution_count": 0,
   "metadata": {
    "application/vnd.databricks.v1+cell": {
     "cellMetadata": {
      "byteLimit": 2048000,
      "rowLimit": 10000
     },
     "inputWidgets": {},
     "nuid": "1f2fa1e3-356f-492a-bfa1-bc9644c5b264",
     "showTitle": false,
     "tableResultSettingsMap": {},
     "title": ""
    }
   },
   "outputs": [],
   "source": [
    "from pyspark.sql import functions as F\n",
    "\n",
    "# Caminhos\n",
    "processar_file   = \"dbfs:/Volumes/workspace/pessoas/proj_pessoas/landing/processar/PESSOAS.csv\"\n",
    "processados_file = \"dbfs:/Volumes/workspace/pessoas/proj_pessoas/landing/processados/PESSOAS.csv\"\n",
    "url = \"https://raw.githubusercontent.com/JDLNas/FORMACAO_MICROSOFT_POWERBI_PROFESSIONAL/refs/heads/main/fontes/PESSOAS.csv\"\n",
    "\n",
    "def path_exists(p):\n",
    "    try:\n",
    "        dbutils.fs.ls(p); return True\n",
    "    except:\n",
    "        return False\n",
    "\n",
    "# 0) Garantir que o arquivo exista em processar/ (ou baixar)\n",
    "if not path_exists(processar_file) and not path_exists(processados_file):\n",
    "    import urllib.request\n",
    "    tmp = \"/tmp/PESSOAS.csv\"\n",
    "    urllib.request.urlretrieve(url, tmp)\n",
    "    dbutils.fs.mv(f\"file:{tmp}\", processar_file, True)\n",
    "\n",
    "# 1) Escolher fonte efetiva\n",
    "landing_csv = processar_file if path_exists(processar_file) else processados_file\n",
    "\n",
    "# 2) Ler CSV (bruto)\n",
    "df_bronze = (spark.read\n",
    "  .option(\"header\",\"true\")\n",
    "  .option(\"encoding\",\"utf-8\")\n",
    "  .option(\"inferSchema\",\"true\")\n",
    "  .option(\"multiLine\",\"true\")\n",
    "  .option(\"mode\",\"PERMISSIVE\")\n",
    "  .csv(landing_csv)\n",
    ")\n",
    "\n",
    "# 3) Tabela Bronze (Delta gerenciada)\n",
    "spark.sql(\"DROP TABLE IF EXISTS workspace.pessoas.bronze_pessoas\")\n",
    "df_bronze.write.mode(\"overwrite\").format(\"delta\").saveAsTable(\"workspace.pessoas.bronze_pessoas\")\n",
    "\n",
    "# 4) Conferir\n",
    "spark.sql(\"SELECT * FROM workspace.pessoas.bronze_pessoas LIMIT 10\").show()\n",
    "\n",
    "# 5) Arquivar (mover p/ processados se estava em processar/)\n",
    "if path_exists(processar_file):\n",
    "    dbutils.fs.mv(processar_file, processados_file, True)\n",
    "\n",
    "# 6) Onde está armazenado\n",
    "spark.sql(\"DESCRIBE DETAIL workspace.pessoas.bronze_pessoas\").show(truncate=False)\n"
   ]
  }
 ],
 "metadata": {
  "application/vnd.databricks.v1+notebook": {
   "computePreferences": null,
   "dashboards": [],
   "environmentMetadata": {
    "base_environment": "",
    "environment_version": "3"
   },
   "inputWidgetPreferences": null,
   "language": "python",
   "notebookMetadata": {
    "mostRecentlyExecutedCommandWithImplicitDF": {
     "commandId": 7654878807596841,
     "dataframes": [
      "_sqldf"
     ]
    },
    "pythonIndentUnit": 4
   },
   "notebookName": "002-Bronze",
   "widgets": {}
  },
  "language_info": {
   "name": "python"
  }
 },
 "nbformat": 4,
 "nbformat_minor": 0
}
