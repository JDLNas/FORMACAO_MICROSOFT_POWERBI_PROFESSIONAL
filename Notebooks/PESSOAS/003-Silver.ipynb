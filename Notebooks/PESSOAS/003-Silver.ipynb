{
 "cells": [
  {
   "cell_type": "code",
   "execution_count": 0,
   "metadata": {
    "application/vnd.databricks.v1+cell": {
     "cellMetadata": {
      "byteLimit": 2048000,
      "rowLimit": 10000
     },
     "inputWidgets": {},
     "nuid": "9a8fa85d-e69d-4ef0-af4c-b2c43a318843",
     "showTitle": false,
     "tableResultSettingsMap": {},
     "title": ""
    }
   },
   "outputs": [],
   "source": [
    "from pyspark.sql import functions as F\n",
    "\n",
    "# 1) Ler Bronze\n",
    "bronze = spark.table(\"workspace.pessoas.bronze_pessoas\")\n",
    "\n",
    "# 2) Renomear colunas\n",
    "rename_map = {\n",
    "    \"Codigo\": \"codigo\",\n",
    "    \"PrimeiroNome\": \"primeiro_nome\",\n",
    "    \"UltimoNome\": \"ultimo_nome\",\n",
    "    \"email\": \"email\",\n",
    "    \"Genero\": \"genero\",\n",
    "    \"Avatar\": \"avatar\",\n",
    "    \"Pais\": \"pais\",\n",
    "    \"Nascimento\": \"nascimento\"\n",
    "}\n",
    "\n",
    "df = bronze\n",
    "for old, new in rename_map.items():\n",
    "    if old in df.columns:\n",
    "        df = df.withColumnRenamed(old, new)\n",
    "\n",
    "# 3) Data dd/MM/yyyy -> date\n",
    "df = df.withColumn(\"nascimento\", F.to_date(F.col(\"nascimento\"), \"dd/MM/yyyy\"))\n",
    "\n",
    "# 4) Trim em strings\n",
    "types = dict(df.dtypes)\n",
    "df = df.select([F.trim(F.col(c)).alias(c) if types.get(c)==\"string\" else F.col(c) for c in df.columns])\n",
    "\n",
    "# 5) Tabela Silver (Delta gerenciada)\n",
    "spark.sql(\"DROP TABLE IF EXISTS workspace.pessoas.silver_pessoas\")\n",
    "df.write.mode(\"overwrite\").format(\"delta\").saveAsTable(\"workspace.pessoas.silver_pessoas\")\n",
    "\n",
    "# 6) Conferir\n",
    "spark.sql(\"SELECT * FROM workspace.pessoas.silver_pessoas LIMIT 10\").show()\n"
   ]
  }
 ],
 "metadata": {
  "application/vnd.databricks.v1+notebook": {
   "computePreferences": null,
   "dashboards": [],
   "environmentMetadata": {
    "base_environment": "",
    "environment_version": "3"
   },
   "inputWidgetPreferences": null,
   "language": "python",
   "notebookMetadata": {
    "pythonIndentUnit": 4
   },
   "notebookName": "003-Silver",
   "widgets": {}
  },
  "language_info": {
   "name": "python"
  }
 },
 "nbformat": 4,
 "nbformat_minor": 0
}
