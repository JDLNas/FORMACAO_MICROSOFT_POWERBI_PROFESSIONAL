{
 "cells": [
  {
   "cell_type": "code",
   "execution_count": 0,
   "metadata": {
    "application/vnd.databricks.v1+cell": {
     "cellMetadata": {
      "byteLimit": 2048000,
      "rowLimit": 10000
     },
     "inputWidgets": {},
     "nuid": "84daa069-729b-4318-87e6-397bf090cbc8",
     "showTitle": false,
     "tableResultSettingsMap": {},
     "title": ""
    }
   },
   "outputs": [],
   "source": [
    "# Baixar para landing/processar\n",
    "url = \"https://raw.githubusercontent.com/JDLNas/FORMACAO_MICROSOFT_POWERBI_PROFESSIONAL/refs/heads/main/fontes/PESSOAS.csv\"\n",
    "destino = \"dbfs:/Volumes/workspace/pessoas/proj_pessoas/landing/processar/PESSOAS.csv\"\n"
   ]
  },
  {
   "cell_type": "code",
   "execution_count": 0,
   "metadata": {
    "application/vnd.databricks.v1+cell": {
     "cellMetadata": {
      "byteLimit": 2048000,
      "rowLimit": 10000
     },
     "inputWidgets": {},
     "nuid": "38a1f252-c2d1-46d8-82ac-393c33c41f95",
     "showTitle": false,
     "tableResultSettingsMap": {},
     "title": ""
    }
   },
   "outputs": [],
   "source": [
    "%sh\n",
    "curl -L \"https://raw.githubusercontent.com/JDLNas/FORMACAO_MICROSOFT_POWERBI_PROFESSIONAL/refs/heads/main/fontes/PESSOAS.csv\" \\\n",
    "  -o /dbfs/Volumes/workspace/pessoas/proj_pessoas/landing/processar/PESSOAS.csv\n",
    "\n",
    "ls -lh /dbfs/Volumes/workspace/pessoas/proj_pessoas/landing/processar/\n"
   ]
  }
 ],
 "metadata": {
  "application/vnd.databricks.v1+notebook": {
   "computePreferences": null,
   "dashboards": [],
   "environmentMetadata": {
    "base_environment": "",
    "environment_version": "3"
   },
   "inputWidgetPreferences": null,
   "language": "python",
   "notebookMetadata": {
    "mostRecentlyExecutedCommandWithImplicitDF": {
     "commandId": 7654878807596837,
     "dataframes": [
      "_sqldf"
     ]
    },
    "pythonIndentUnit": 4
   },
   "notebookName": "001-Landing",
   "widgets": {}
  },
  "language_info": {
   "name": "python"
  }
 },
 "nbformat": 4,
 "nbformat_minor": 0
}
