{
 "cells": [
  {
   "cell_type": "code",
   "execution_count": 0,
   "metadata": {
    "application/vnd.databricks.v1+cell": {
     "cellMetadata": {
      "byteLimit": 2048000,
      "rowLimit": 10000
     },
     "inputWidgets": {},
     "nuid": "06db4f7b-d9b1-449b-bac0-2fd428d93303",
     "showTitle": false,
     "tableResultSettingsMap": {},
     "title": ""
    }
   },
   "outputs": [],
   "source": [
    "from pyspark.sql import functions as F\n",
    "\n",
    "silver = spark.table(\"workspace.pessoas.silver_pessoas\")\n",
    "\n",
    "gold = (silver\n",
    "  .withColumn(\"nome_completo\", F.concat_ws(\" \", F.col(\"primeiro_nome\"), F.col(\"ultimo_nome\")))\n",
    "  .withColumn(\"email_dominio\", F.element_at(F.split(F.col(\"email\"), \"@\"), 2))\n",
    "  .withColumn(\"idade\", F.floor(F.months_between(F.current_date(), F.col(\"nascimento\"))/12))\n",
    "  .withColumn(\"faixa_etaria\",\n",
    "              F.when(F.col(\"idade\") < 18, \"Menor de 18\")\n",
    "               .when(F.col(\"idade\") <= 24, \"18-24\")\n",
    "               .when(F.col(\"idade\") <= 34, \"25-34\")\n",
    "               .when(F.col(\"idade\") <= 44, \"35-44\")\n",
    "               .when(F.col(\"idade\") <= 54, \"45-54\")\n",
    "               .when(F.col(\"idade\") <= 64, \"55-64\")\n",
    "               .otherwise(\"65+\"))\n",
    "  .withColumn(\"faixa_ordem\",\n",
    "              F.when(F.col(\"faixa_etaria\") == \"Menor de 18\", 0)\n",
    "               .when(F.col(\"faixa_etaria\") == \"18-24\", 1)\n",
    "               .when(F.col(\"faixa_etaria\") == \"25-34\", 2)\n",
    "               .when(F.col(\"faixa_etaria\") == \"35-44\", 3)\n",
    "               .when(F.col(\"faixa_etaria\") == \"45-54\", 4)\n",
    "               .when(F.col(\"faixa_etaria\") == \"55-64\", 5)\n",
    "               .otherwise(6))\n",
    "  .withColumn(\"ano_nascimento\", F.year(F.col(\"nascimento\")))\n",
    ")\n",
    "\n",
    "spark.sql(\"DROP TABLE IF EXISTS workspace.pessoas.gold_pessoas\")\n",
    "gold.write.mode(\"overwrite\").format(\"delta\").saveAsTable(\"workspace.pessoas.gold_pessoas\")\n",
    "\n",
    "spark.sql(\"SELECT * FROM workspace.pessoas.gold_pessoas LIMIT 10\").show()\n"
   ]
  }
 ],
 "metadata": {
  "application/vnd.databricks.v1+notebook": {
   "computePreferences": null,
   "dashboards": [],
   "environmentMetadata": {
    "base_environment": "",
    "environment_version": "3"
   },
   "inputWidgetPreferences": null,
   "language": "python",
   "notebookMetadata": {
    "pythonIndentUnit": 4
   },
   "notebookName": "004-Gold",
   "widgets": {}
  },
  "language_info": {
   "name": "python"
  }
 },
 "nbformat": 4,
 "nbformat_minor": 0
}
