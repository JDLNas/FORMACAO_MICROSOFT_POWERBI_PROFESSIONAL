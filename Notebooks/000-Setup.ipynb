{
 "cells": [
  {
   "cell_type": "code",
   "execution_count": 0,
   "metadata": {
    "application/vnd.databricks.v1+cell": {
     "cellMetadata": {
      "byteLimit": 2048000,
      "rowLimit": 10000
     },
     "inputWidgets": {},
     "nuid": "3c0b94bc-c3cf-4650-9e34-bc237336a36f",
     "showTitle": false,
     "tableResultSettingsMap": {},
     "title": ""
    }
   },
   "outputs": [],
   "source": [
    "# 0) Catálogo (troque para 'hive_metastore' se 'workspace' não existir)\n",
    "spark.sql(\"\"\"USE CATALOG workspace\"\"\")\n",
    "\n",
    "# 1) Schema do projeto\n",
    "spark.sql(\"\"\"\n",
    "  CREATE SCHEMA IF NOT EXISTS workspace.pessoas\n",
    "  COMMENT 'Schema do projeto PESSOAS (curso do Power BI + Databricks)'\n",
    "\"\"\")\n",
    "\n",
    "# 2) Usar schema\n",
    "spark.sql(\"\"\"USE workspace.pessoas\"\"\")\n",
    "\n",
    "# 3) Volume p/ arquivos de entrada (Landing)\n",
    "spark.sql(\"\"\"\n",
    "  CREATE VOLUME IF NOT EXISTS workspace.pessoas.proj_pessoas\n",
    "  COMMENT 'Arquivos do projeto PESSOAS'\n",
    "\"\"\")\n",
    "\n",
    "# 4) Pastas\n",
    "base = \"dbfs:/Volumes/workspace/pessoas/proj_pessoas\"\n",
    "dbutils.fs.mkdirs(f\"{base}/landing/processar\")\n",
    "dbutils.fs.mkdirs(f\"{base}/landing/processados\")\n",
    "\n",
    "# 5) Conferir\n",
    "display(dbutils.fs.ls(base))\n"
   ]
  }
 ],
 "metadata": {
  "application/vnd.databricks.v1+notebook": {
   "computePreferences": null,
   "dashboards": [],
   "environmentMetadata": {
    "base_environment": "",
    "environment_version": "3"
   },
   "inputWidgetPreferences": null,
   "language": "python",
   "notebookMetadata": {
    "mostRecentlyExecutedCommandWithImplicitDF": {
     "commandId": -1,
     "dataframes": [
      "_sqldf"
     ]
    },
    "pythonIndentUnit": 4
   },
   "notebookName": "000-Setup",
   "widgets": {}
  },
  "language_info": {
   "name": "python"
  }
 },
 "nbformat": 4,
 "nbformat_minor": 0
}
